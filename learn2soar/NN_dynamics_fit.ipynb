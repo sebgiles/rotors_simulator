{
 "cells": [
  {
   "cell_type": "code",
   "execution_count": 1,
   "metadata": {},
   "outputs": [],
   "source": [
    "import sklearn\n",
    "import numpy as np"
   ]
  },
  {
   "cell_type": "code",
   "execution_count": 2,
   "metadata": {},
   "outputs": [],
   "source": [
    "filename = 'demonstrations/seb_run000'\n",
    "dati = np.load(filename+'.npz')"
   ]
  },
  {
   "cell_type": "code",
   "execution_count": 3,
   "metadata": {},
   "outputs": [
    {
     "name": "stdout",
     "output_type": "stream",
     "text": [
      "(10650, 5)\n",
      "(10650, 5)\n"
     ]
    }
   ],
   "source": [
    "obs_middle = np.array([15.0, 25.0, 0.0, 0.0, 0.0])\n",
    "obs_radius = np.array([15.0, 25.0, np.pi, np.pi/2, np.pi])\n",
    "observation = dati['obs']\n",
    "print(observation.shape)\n",
    "obs = (observation - obs_middle) / obs_radius\n",
    "print(obs.shape)\n",
    "out = {\n",
    "    'actions': dati['actions'],\n",
    "    'rewards': dati['rewards'],\n",
    "    'episode_returns': dati['episode_returns'],\n",
    "    'episode_starts': dati['episode_starts'],\n",
    "    'obs': obs\n",
    "}\n",
    "#np.savez(filename+'.nrm.npz', **out)"
   ]
  },
  {
   "cell_type": "code",
   "execution_count": 4,
   "metadata": {},
   "outputs": [
    {
     "name": "stdout",
     "output_type": "stream",
     "text": [
      "[1.07950816 0.32774781 0.56151983 0.45920199 0.5105057 ]\n",
      "[ 0.42666972 -0.16380214 -0.00956625  0.05407778  0.0180156 ]\n"
     ]
    }
   ],
   "source": [
    "#print(np.max(obs, axis=0))\n",
    "#print(np.min(obs, axis=0))\n",
    "print(np.std(obs, axis=0))\n",
    "print(np.mean(obs, axis=0))\n",
    "#print(np.median(obs, axis=0))\n",
    "#print(0.5*(np.max(obs, axis=0)+np.min(obs, axis=0)))"
   ]
  },
  {
   "cell_type": "code",
   "execution_count": 5,
   "metadata": {},
   "outputs": [
    {
     "name": "stdout",
     "output_type": "stream",
     "text": [
      "10649\n"
     ]
    }
   ],
   "source": [
    "obs = dati['obs']\n",
    "acs = dati['actions']\n",
    "rew = dati['rewards']\n",
    "n = obs.shape[0] - 1\n",
    "print(n)"
   ]
  },
  {
   "cell_type": "code",
   "execution_count": 7,
   "metadata": {},
   "outputs": [
    {
     "data": {
      "image/png": "[encoded data removed]",
      "text/plain": [
       "<Figure size 432x288 with 1 Axes>"
      ]
     },
     "metadata": {
      "needs_background": "light"
     },
     "output_type": "display_data"
    }
   ],
   "source": [
    "import matplotlib.pyplot as plt\n",
    "plt.hist(rew)\n",
    "plt.show()"
   ]
  },
  {
   "cell_type": "code",
   "execution_count": 13,
   "metadata": {},
   "outputs": [],
   "source": [
    "X = np.hstack([obs[:-1], acs[:-1]])"
   ]
  },
  {
   "cell_type": "code",
   "execution_count": 14,
   "metadata": {},
   "outputs": [],
   "source": [
    "y = np.zeros([n,6])\n",
    "y[:,:-1] = obs[1:] - obs[:-1]\n",
    "y[:,-1]  = rew[:-1]"
   ]
  },
  {
   "cell_type": "code",
   "execution_count": 15,
   "metadata": {},
   "outputs": [],
   "source": [
    "#y = np.zeros([n,1])\n",
    "#y[:,-1] = rew[:-1]"
   ]
  },
  {
   "cell_type": "code",
   "execution_count": 16,
   "metadata": {},
   "outputs": [],
   "source": [
    "X = X[~dati['episode_starts'][1:]]\n",
    "y = y[~dati['episode_starts'][1:]]"
   ]
  },
  {
   "cell_type": "code",
   "execution_count": 17,
   "metadata": {},
   "outputs": [],
   "source": [
    "from sklearn.preprocessing import StandardScaler\n",
    "X = StandardScaler().fit_transform(X)\n",
    "y = StandardScaler().fit_transform(y)"
   ]
  },
  {
   "cell_type": "code",
   "execution_count": 18,
   "metadata": {},
   "outputs": [],
   "source": [
    "from sklearn.neural_network import MLPRegressor\n",
    "from sklearn.model_selection import train_test_split"
   ]
  },
  {
   "cell_type": "code",
   "execution_count": 19,
   "metadata": {},
   "outputs": [],
   "source": [
    "X_train, X_test, y_train, y_test = train_test_split(X, y, random_state=1)"
   ]
  },
  {
   "cell_type": "code",
   "execution_count": 12,
   "metadata": {},
   "outputs": [],
   "source": [
    "regr = MLPRegressor(hidden_layer_sizes=(256,256), \n",
    "                     activation='relu',\n",
    "                     solver='adam', \n",
    "                     alpha=0.0001, \n",
    "                     batch_size='auto', \n",
    "                     learning_rate='invscaling', \n",
    "                     learning_rate_init=0.001, \n",
    "                     power_t=0.5, max_iter=1000, shuffle=True, \n",
    "                     tol=0.0001, verbose=True, \n",
    "                     warm_start=False, momentum=0.9, \n",
    "                     nesterovs_momentum=True, early_stopping=True, \n",
    "                     validation_fraction=0.1, beta_1=0.9, beta_2=0.999, \n",
    "                     epsilon=1e-08, n_iter_no_change=10, max_fun=15000,\n",
    "                   )"
   ]
  },
  {
   "cell_type": "code",
   "execution_count": 13,
   "metadata": {
    "scrolled": true
   },
   "outputs": [
    {
     "name": "stdout",
     "output_type": "stream",
     "text": [
      "Iteration 1, loss = 0.29731204\n",
      "Validation score: 0.559733\n",
      "Iteration 2, loss = 0.20665331\n",
      "Validation score: 0.607766\n",
      "Iteration 3, loss = 0.18546016\n",
      "Validation score: 0.633959\n",
      "Iteration 4, loss = 0.17335472\n",
      "Validation score: 0.647481\n",
      "Iteration 5, loss = 0.16347521\n",
      "Validation score: 0.667034\n",
      "Iteration 6, loss = 0.15523758\n",
      "Validation score: 0.675506\n",
      "Iteration 7, loss = 0.14876312\n",
      "Validation score: 0.685968\n",
      "Iteration 8, loss = 0.14999493\n",
      "Validation score: 0.692199\n",
      "Iteration 9, loss = 0.14012514\n",
      "Validation score: 0.702173\n",
      "Iteration 10, loss = 0.13554632\n",
      "Validation score: 0.706871\n",
      "Iteration 11, loss = 0.13048306\n",
      "Validation score: 0.714614\n",
      "Iteration 12, loss = 0.12673920\n",
      "Validation score: 0.718790\n",
      "Iteration 13, loss = 0.12463177\n",
      "Validation score: 0.727617\n",
      "Iteration 14, loss = 0.12109433\n",
      "Validation score: 0.717806\n",
      "Iteration 15, loss = 0.12095896\n",
      "Validation score: 0.730823\n",
      "Iteration 16, loss = 0.11715703\n",
      "Validation score: 0.737319\n",
      "Iteration 17, loss = 0.11339647\n",
      "Validation score: 0.732497\n",
      "Iteration 18, loss = 0.11096783\n",
      "Validation score: 0.738774\n",
      "Iteration 19, loss = 0.11017889\n",
      "Validation score: 0.745114\n",
      "Iteration 20, loss = 0.10711891\n",
      "Validation score: 0.743489\n",
      "Iteration 21, loss = 0.10543916\n",
      "Validation score: 0.750139\n",
      "Iteration 22, loss = 0.13443710\n",
      "Validation score: 0.729968\n",
      "Iteration 23, loss = 0.11383278\n",
      "Validation score: 0.741884\n",
      "Iteration 24, loss = 0.10853609\n",
      "Validation score: 0.753695\n",
      "Iteration 25, loss = 0.10421311\n",
      "Validation score: 0.761307\n",
      "Iteration 26, loss = 0.09898468\n",
      "Validation score: 0.760569\n",
      "Iteration 27, loss = 0.09712131\n",
      "Validation score: 0.765073\n",
      "Iteration 28, loss = 0.09673150\n",
      "Validation score: 0.766621\n",
      "Iteration 29, loss = 0.09447426\n",
      "Validation score: 0.770109\n",
      "Iteration 30, loss = 0.09342344\n",
      "Validation score: 0.753480\n",
      "Iteration 31, loss = 0.10828871\n",
      "Validation score: 0.767909\n",
      "Iteration 32, loss = 0.09251389\n",
      "Validation score: 0.769842\n",
      "Iteration 33, loss = 0.08978676\n",
      "Validation score: 0.758720\n",
      "Iteration 34, loss = 0.09500968\n",
      "Validation score: 0.769876\n",
      "Iteration 35, loss = 0.09103688\n",
      "Validation score: 0.769052\n",
      "Iteration 36, loss = 0.08778083\n",
      "Validation score: 0.776180\n",
      "Iteration 37, loss = 0.08477505\n",
      "Validation score: 0.776509\n",
      "Iteration 38, loss = 0.08359961\n",
      "Validation score: 0.765031\n",
      "Iteration 39, loss = 0.12838480\n",
      "Validation score: 0.751888\n",
      "Iteration 40, loss = 0.09269200\n",
      "Validation score: 0.777191\n",
      "Iteration 41, loss = 0.08541040\n",
      "Validation score: 0.784963\n",
      "Iteration 42, loss = 0.08594636\n",
      "Validation score: 0.761051\n",
      "Iteration 43, loss = 0.11527922\n",
      "Validation score: 0.770699\n",
      "Iteration 44, loss = 0.08461701\n",
      "Validation score: 0.773198\n",
      "Iteration 45, loss = 0.08583704\n",
      "Validation score: 0.779500\n",
      "Iteration 46, loss = 0.12894667\n",
      "Validation score: 0.772429\n",
      "Iteration 47, loss = 0.12735013\n",
      "Validation score: 0.746899\n",
      "Iteration 48, loss = 0.11105336\n",
      "Validation score: 0.764789\n",
      "Iteration 49, loss = 0.09982329\n",
      "Validation score: 0.774029\n",
      "Iteration 50, loss = 0.09502115\n",
      "Validation score: 0.776364\n",
      "Iteration 51, loss = 0.09089486\n",
      "Validation score: 0.760196\n",
      "Iteration 52, loss = 0.13533558\n",
      "Validation score: 0.770332\n",
      "Validation score did not improve more than tol=0.000100 for 10 consecutive epochs. Stopping.\n"
     ]
    }
   ],
   "source": [
    "regr = regr.fit(X_train, y_train)"
   ]
  },
  {
   "cell_type": "code",
   "execution_count": 15,
   "metadata": {},
   "outputs": [
    {
     "name": "stdout",
     "output_type": "stream",
     "text": [
      "0.8006171918299426\n",
      "0.7217654561901865\n",
      "0.9791239928774325\n",
      "0.41294095567855027\n"
     ]
    }
   ],
   "source": [
    "print(regr.score(X_test, y_test))\n",
    "from sklearn.metrics import r2_score\n",
    "X_test_noact = np.copy(X_test)\n",
    "n_test = X_test.shape[0]\n",
    "X_test_noact[:,-2:] = np.zeros([n_test, 2])\n",
    "\n",
    "y_test_hat = regr.predict(X_test)\n",
    "print(r2_score(y_test[:,3:5], y_test_hat[:,3:5]))\n",
    "print(r2_score(y_test[:,-1], y_test_hat[:,-1]))\n",
    "y_test_noact_hat = regr.predict(X_test_noact)\n",
    "print(r2_score(y_test[:,3:5], y_test_noact_hat[:,3:5]))"
   ]
  },
  {
   "cell_type": "markdown",
   "metadata": {},
   "source": [
    "32^2\n",
    "0.7568775375158716\n",
    "0.6618566505493315\n",
    "0.3792859472529585\n",
    "\n",
    "32^4\n",
    "0.6790337384394276\n",
    "0.3706717010875441\n",
    "\n",
    "64^2\n",
    "0.7890316324251868\n",
    "0.695654767820375\n",
    "0.4064780202314599\n",
    "\n",
    "64^3\n",
    "0.8050472956040292\n",
    "0.7231935605209159\n",
    "0.379271480435488\n",
    "\n",
    "64x128x64\n",
    "0.8017002731673505\n",
    "0.7189430821483473\n",
    "0.37180074395282325\n",
    "\n",
    "128^2\n",
    "0.8126686933062833\n",
    "0.7375201987656768\n",
    "0.40055354126739673\n",
    "\n",
    "128^4\n",
    "0.8104557255909789\n",
    "0.7387669853417194\n",
    "0.37929269607135496\n",
    "\n",
    "256\n",
    "0.7863730904575563\n",
    "0.7091571089083142\n",
    "0.3982262215382181\n",
    "\n",
    "8x256\n",
    "0.7668729199385614\n",
    "0.6684689377923899\n",
    "0.3910761956441275\n",
    "\n",
    "256x128\n",
    "0.8116519021776541\n",
    "0.7413045875383611\n",
    "0.36898949926441105\n",
    "\n",
    "128x256\n",
    "0.8166583345614731\n",
    "0.7493261067038156\n",
    "0.3717739442587401\n",
    "\n",
    "256^2\n",
    "0.8240627820769033\n",
    "0.757434327159496\n",
    "0.38575411601107523\n",
    "\n",
    "256^3\n",
    "0.8145780211741683\n",
    "0.7332958111739403\n",
    "0.3725881872520055\n",
    "\n",
    "512\n",
    "0.7917903198840671\n",
    "0.7182124929605083\n",
    "0.39966753727381105\n",
    "\n",
    "512^2\n",
    "0.8153211637061869\n",
    "0.7443025983927569\n",
    "0.38189329807387334\n"
   ]
  },
  {
   "cell_type": "code",
   "execution_count": 20,
   "metadata": {},
   "outputs": [
    {
     "ename": "NameError",
     "evalue": "name 'y_test_hat' is not defined",
     "output_type": "error",
     "traceback": [
      "\u001b[0;31m---------------------------------------------------------------------------\u001b[0m",
      "\u001b[0;31mNameError\u001b[0m                                 Traceback (most recent call last)",
      "\u001b[0;32m<ipython-input-20-1d2fc42f68a5>\u001b[0m in \u001b[0;36m<module>\u001b[0;34m\u001b[0m\n\u001b[0;32m----> 1\u001b[0;31m \u001b[0mplt\u001b[0m\u001b[0;34m.\u001b[0m\u001b[0mhist\u001b[0m\u001b[0;34m(\u001b[0m\u001b[0;34m[\u001b[0m\u001b[0my_test_hat\u001b[0m\u001b[0;34m[\u001b[0m\u001b[0;34m:\u001b[0m\u001b[0;34m,\u001b[0m\u001b[0;34m-\u001b[0m\u001b[0;36m1\u001b[0m\u001b[0;34m]\u001b[0m\u001b[0;34m,\u001b[0m \u001b[0my\u001b[0m\u001b[0;34m[\u001b[0m\u001b[0;34m:\u001b[0m\u001b[0;34m,\u001b[0m\u001b[0;34m-\u001b[0m\u001b[0;36m1\u001b[0m\u001b[0;34m]\u001b[0m\u001b[0;34m]\u001b[0m\u001b[0;34m)\u001b[0m\u001b[0;34m\u001b[0m\u001b[0;34m\u001b[0m\u001b[0m\n\u001b[0m\u001b[1;32m      2\u001b[0m \u001b[0mplt\u001b[0m\u001b[0;34m.\u001b[0m\u001b[0mshow\u001b[0m\u001b[0;34m(\u001b[0m\u001b[0;34m)\u001b[0m\u001b[0;34m\u001b[0m\u001b[0;34m\u001b[0m\u001b[0m\n",
      "\u001b[0;31mNameError\u001b[0m: name 'y_test_hat' is not defined"
     ]
    }
   ],
   "source": [
    "plt.hist([y_test_hat[:,-1], y_test[:,-1]])\n",
    "plt.show()"
   ]
  },
  {
   "cell_type": "code",
   "execution_count": 8,
   "metadata": {},
   "outputs": [
    {
     "data": {
      "text/plain": [
       "12.063776888961495"
      ]
     },
     "execution_count": 8,
     "metadata": {},
     "output_type": "execute_result"
    }
   ],
   "source": [
    "np.mean(rew)"
   ]
  },
  {
   "cell_type": "code",
   "execution_count": 21,
   "metadata": {},
   "outputs": [
    {
     "data": {
      "text/plain": [
       "-6.558205083931056e-17"
      ]
     },
     "execution_count": 21,
     "metadata": {},
     "output_type": "execute_result"
    }
   ],
   "source": [
    "np.mean(y[:,-1])"
   ]
  },
  {
   "cell_type": "code",
   "execution_count": null,
   "metadata": {},
   "outputs": [],
   "source": []
  }
 ],
 "metadata": {
  "kernelspec": {
   "display_name": "Python 3.6.9 64-bit",
   "language": "python",
   "name": "python36964bit4bbd87d8cfc74c099cc1e2a856f73c9a"
  },
  "language_info": {
   "codemirror_mode": {
    "name": "ipython",
    "version": 3
   },
   "file_extension": ".py",
   "mimetype": "text/x-python",
   "name": "python",
   "nbconvert_exporter": "python",
   "pygments_lexer": "ipython3",
   "version": "3.6.9"
  }
 },
 "nbformat": 4,
 "nbformat_minor": 4
}
