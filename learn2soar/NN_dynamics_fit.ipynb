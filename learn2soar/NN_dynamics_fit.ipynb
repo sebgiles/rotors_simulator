{
 "cells": [
  {
   "cell_type": "code",
   "execution_count": 1,
   "metadata": {},
   "outputs": [
    {
     "name": "stderr",
     "output_type": "stream",
     "text": [
      "\n",
      "Bad key \"text.kerning_factor\" on line 4 in\n",
      "/home/seb/.local/lib/python3.6/site-packages/matplotlib/mpl-data/stylelib/_classic_test_patch.mplstyle.\n",
      "You probably need to get an updated matplotlibrc file from\n",
      "http://github.com/matplotlib/matplotlib/blob/master/matplotlibrc.template\n",
      "or from the matplotlib source distribution\n"
     ]
    }
   ],
   "source": [
    "import sklearn\n",
    "import numpy as np\n",
    "import matplotlib.pyplot as plt"
   ]
  },
  {
   "cell_type": "code",
   "execution_count": 2,
   "metadata": {},
   "outputs": [
    {
     "name": "stdout",
     "output_type": "stream",
     "text": [
      "(10650, 5)\n",
      "(10650, 5)\n",
      "(10650,)\n",
      "(10650,)\n"
     ]
    }
   ],
   "source": [
    "# Update log file\n",
    "filename = 'demonstrations/seb_run000'\n",
    "dati = np.load(filename+'.npz')\n",
    "\n",
    "observation = dati['obs']\n",
    "print(observation.shape)\n",
    "\n",
    "obs_middle = np.array([15.0, 25.0, 0.0, 0.0, 0.0])\n",
    "obs_radius = np.array([15.0, 25.0, np.pi, np.pi/2, np.pi])\n",
    "obs = (observation - obs_middle) / obs_radius\n",
    "print(obs.shape)\n",
    "\n",
    "reward = np.copy(dati['rewards'])\n",
    "print(reward.shape)\n",
    "\n",
    "delta_yaw = observation[1:,2] - observation[:-1,2]\n",
    "crossings = np.abs(delta_yaw) > np.pi \n",
    "delta_yaw[crossings] = -np.sign(delta_yaw[crossings])*(np.abs(delta_yaw[crossings]) - 2*np.pi)\n",
    "reward[:-1][delta_yaw>0] = 0\n",
    "print(reward.shape)\n",
    "\n",
    "out = {\n",
    "   'actions': dati['actions'],\n",
    "   'rewards': reward,\n",
    "   'episode_returns': dati['episode_returns'],\n",
    "   'episode_starts': dati['episode_starts'],\n",
    "   'obs': obs,\n",
    "}\n",
    "np.savez(filename+'.nrm.npz', **out)"
   ]
  },
  {
   "cell_type": "code",
   "execution_count": 25,
   "metadata": {},
   "outputs": [],
   "source": [
    "filename = 'demonstrations/seb_run000.nrm'\n",
    "traj_data = np.load(filename+'.npz', allow_pickle=True)\n",
    "\n",
    "\n",
    "reset    = traj_data['episode_starts'][1:-1]\n",
    "done     = traj_data['episode_starts'][2:][~reset]\n",
    "obs      = np.copy(traj_data['obs'][:-2][~reset])\n",
    "actions  = traj_data['actions'][:-2][~reset]\n",
    "next_obs = np.copy(traj_data['obs'][1:-1][~reset])\n",
    "rewards  = traj_data['rewards'][:-2][~reset]\n",
    "#rewards  = np.reshape(rewards, [rewards.shape[0], 1]) # create unused second dimension\n",
    "\n",
    "delta = next_obs - obs\n",
    "delta[:,2:] = (delta[:,2:] + 1) % 2 - 1"
   ]
  },
  {
   "cell_type": "code",
   "execution_count": 26,
   "metadata": {},
   "outputs": [
    {
     "data": {
      "image/png": "[encoded data removed]",
      "text/plain": [
       "<Figure size 432x288 with 1 Axes>"
      ]
     },
     "metadata": {
      "needs_background": "light"
     },
     "output_type": "display_data"
    }
   ],
   "source": [
    "plt.hist(obs)\n",
    "plt.show()"
   ]
  },
  {
   "cell_type": "code",
   "execution_count": 4,
   "metadata": {
    "scrolled": true
   },
   "outputs": [
    {
     "name": "stdout",
     "output_type": "stream",
     "text": [
      "delta_mean=  [-0.05159818 -0.00256441  0.00041537  0.05397467  0.00763356]\n",
      "delta_std =  [0.27283235 0.09119003 0.14549804 0.14207232 0.1602701 ]\n",
      "rew_mean= 6.745474201226178\n",
      "rew_std= 16.7606318098354\n"
     ]
    }
   ],
   "source": [
    "print(\"delta_mean= \", np.mean(delta, axis=0))\n",
    "delta_std = np.std(delta, axis=0)\n",
    "print(\"delta_std = \", delta_std)\n",
    "rew_std = np.std(rewards, axis=0)\n",
    "rew_mean = np.mean(rewards, axis=0)\n",
    "print(\"rew_mean=\", rew_mean)\n",
    "print(\"rew_std=\",rew_std)"
   ]
  },
  {
   "cell_type": "code",
   "execution_count": 5,
   "metadata": {},
   "outputs": [],
   "source": [
    "true_delta_normed = delta/delta_std\n",
    "true_rew_normed = (rewards - 7)/17"
   ]
  },
  {
   "cell_type": "code",
   "execution_count": 36,
   "metadata": {},
   "outputs": [
    {
     "data": {
      "image/png": "[encoded data removed]",
      "text/plain": [
       "<Figure size 432x288 with 1 Axes>"
      ]
     },
     "metadata": {
      "needs_background": "light"
     },
     "output_type": "display_data"
    },
    {
     "data": {
      "image/png": "[encoded data removed]",
      "text/plain": [
       "<Figure size 432x288 with 1 Axes>"
      ]
     },
     "metadata": {
      "needs_background": "light"
     },
     "output_type": "display_data"
    },
    {
     "data": {
      "image/png": "[encoded data removed]",
      "text/plain": [
       "<Figure size 432x288 with 1 Axes>"
      ]
     },
     "metadata": {
      "needs_background": "light"
     },
     "output_type": "display_data"
    }
   ],
   "source": [
    "plt.hist(true_rew_normed)\n",
    "plt.show()\n",
    "plt.scatter(delta[:,2], true_rew_normed)\n",
    "plt.show()\n",
    "plt.hist(true_delta_normed[:, 2:])\n",
    "plt.show()"
   ]
  },
  {
   "cell_type": "code",
   "execution_count": 7,
   "metadata": {},
   "outputs": [],
   "source": [
    "X = np.hstack([obs, actions])"
   ]
  },
  {
   "cell_type": "code",
   "execution_count": 9,
   "metadata": {},
   "outputs": [],
   "source": [
    "y = np.zeros([obs.shape[0],5+1+1])\n",
    "y[:,:5] = true_delta_normed\n",
    "y[:,5] = true_rew_normed\n",
    "y[:,6] = done"
   ]
  },
  {
   "cell_type": "code",
   "execution_count": 10,
   "metadata": {},
   "outputs": [
    {
     "name": "stdout",
     "output_type": "stream",
     "text": [
      "[-0.18912046 -0.02812163  0.00285479  0.3799098   0.04762932 -0.01497211\n",
      "  0.05667494]\n",
      "[1.         1.         1.         1.         1.         0.98591952\n",
      " 0.23122043]\n",
      "[ 5.12344645e-01 -1.80302177e-01 -1.69204189e-04  3.11010285e-02\n",
      "  1.63571420e-02 -1.45998629e-01  1.21817478e-02]\n",
      "[1.04092536 0.32339147 0.56096065 0.45847718 0.51013567 0.48327372\n",
      " 0.45444033]\n"
     ]
    }
   ],
   "source": [
    "print(np.mean(y, axis=0))\n",
    "print(np.std(y, axis=0))\n",
    "print(np.mean(X, axis=0))\n",
    "print(np.std(X, axis=0))"
   ]
  },
  {
   "cell_type": "code",
   "execution_count": 11,
   "metadata": {},
   "outputs": [],
   "source": [
    "from sklearn.model_selection import train_test_split"
   ]
  },
  {
   "cell_type": "code",
   "execution_count": 12,
   "metadata": {},
   "outputs": [],
   "source": [
    "X_train, X_test, y_train, y_test = train_test_split(X, y, random_state=1)"
   ]
  },
  {
   "cell_type": "code",
   "execution_count": 20,
   "metadata": {
    "collapsed": true
   },
   "outputs": [
    {
     "name": "stdout",
     "output_type": "stream",
     "text": [
      "Iteration 1, loss = 0.28913227\n",
      "Validation score: 0.482241\n",
      "Iteration 2, loss = 0.19155527\n",
      "Validation score: 0.571807\n",
      "Iteration 3, loss = 0.15735182\n",
      "Validation score: 0.621402\n",
      "Iteration 4, loss = 0.14001159\n",
      "Validation score: 0.641340\n",
      "Iteration 5, loss = 0.12761895\n",
      "Validation score: 0.675088\n",
      "Iteration 6, loss = 0.11972519\n",
      "Validation score: 0.680773\n",
      "Iteration 7, loss = 0.11456071\n",
      "Validation score: 0.692342\n",
      "Iteration 8, loss = 0.11067515\n",
      "Validation score: 0.701546\n",
      "Iteration 9, loss = 0.10690963\n",
      "Validation score: 0.719653\n",
      "Iteration 10, loss = 0.10207801\n",
      "Validation score: 0.727725\n",
      "Iteration 11, loss = 0.10013494\n",
      "Validation score: 0.735299\n",
      "Iteration 12, loss = 0.09582680\n",
      "Validation score: 0.736767\n",
      "Iteration 13, loss = 0.09309151\n",
      "Validation score: 0.743194\n",
      "Iteration 14, loss = 0.09080643\n",
      "Validation score: 0.736899\n",
      "Iteration 15, loss = 0.08848460\n",
      "Validation score: 0.736145\n",
      "Iteration 16, loss = 0.08615944\n",
      "Validation score: 0.760185\n",
      "Iteration 17, loss = 0.08415840\n",
      "Validation score: 0.750798\n",
      "Iteration 18, loss = 0.08163585\n",
      "Validation score: 0.760517\n",
      "Iteration 19, loss = 0.07909304\n",
      "Validation score: 0.753253\n",
      "Iteration 20, loss = 0.07740491\n",
      "Validation score: 0.760613\n",
      "Iteration 21, loss = 0.07491265\n",
      "Validation score: 0.760754\n",
      "Iteration 22, loss = 0.07353506\n",
      "Validation score: 0.758809\n",
      "Iteration 23, loss = 0.07226149\n",
      "Validation score: 0.775596\n",
      "Iteration 24, loss = 0.06704936\n",
      "Validation score: 0.777053\n",
      "Iteration 25, loss = 0.06672847\n",
      "Validation score: 0.761528\n",
      "Iteration 26, loss = 0.06661017\n",
      "Validation score: 0.778810\n",
      "Iteration 27, loss = 0.06349950\n",
      "Validation score: 0.786212\n",
      "Iteration 28, loss = 0.06011229\n",
      "Validation score: 0.781418\n",
      "Iteration 29, loss = 0.05822207\n",
      "Validation score: 0.784476\n",
      "Iteration 30, loss = 0.05905203\n",
      "Validation score: 0.788278\n",
      "Iteration 31, loss = 0.05731559\n",
      "Validation score: 0.796579\n",
      "Iteration 32, loss = 0.05497519\n",
      "Validation score: 0.790673\n",
      "Iteration 33, loss = 0.05402069\n",
      "Validation score: 0.776614\n",
      "Iteration 34, loss = 0.05349077\n",
      "Validation score: 0.789810\n",
      "Iteration 35, loss = 0.05254185\n",
      "Validation score: 0.791017\n",
      "Iteration 36, loss = 0.04942715\n",
      "Validation score: 0.800846\n",
      "Iteration 37, loss = 0.04655789\n",
      "Validation score: 0.794338\n",
      "Iteration 38, loss = 0.04552120\n",
      "Validation score: 0.787349\n",
      "Iteration 39, loss = 0.04447691\n",
      "Validation score: 0.803445\n",
      "Iteration 40, loss = 0.04308359\n",
      "Validation score: 0.788434\n",
      "Iteration 41, loss = 0.04302303\n",
      "Validation score: 0.797967\n",
      "Iteration 42, loss = 0.04258648\n",
      "Validation score: 0.780218\n",
      "Iteration 43, loss = 0.04178645\n",
      "Validation score: 0.800963\n",
      "Iteration 44, loss = 0.03992322\n",
      "Validation score: 0.788393\n",
      "Iteration 45, loss = 0.03908915\n",
      "Validation score: 0.796537\n",
      "Iteration 46, loss = 0.03828535\n",
      "Validation score: 0.784002\n",
      "Iteration 47, loss = 0.03878558\n",
      "Validation score: 0.802127\n",
      "Iteration 48, loss = 0.03758147\n",
      "Validation score: 0.798242\n",
      "Iteration 49, loss = 0.03629560\n",
      "Validation score: 0.784024\n",
      "Iteration 50, loss = 0.03611682\n",
      "Validation score: 0.795537\n",
      "Validation score did not improve more than tol=0.000100 for 10 consecutive epochs. Stopping.\n"
     ]
    }
   ],
   "source": [
    "from sklearn.neural_network import MLPRegressor\n",
    "regr = MLPRegressor(hidden_layer_sizes=(256,256,256,256), \n",
    "                     activation='relu',\n",
    "                     solver='adam', \n",
    "                     alpha=0.0001, \n",
    "                     batch_size='auto', \n",
    "                     learning_rate_init=0.001, \n",
    "                     max_iter=1000, shuffle=True, \n",
    "                     tol=0.0001, verbose=True, \n",
    "                     warm_start=False, momentum=0.9, \n",
    "                     nesterovs_momentum=True, early_stopping=True, \n",
    "                     validation_fraction=0.1, beta_1=0.9, beta_2=0.999, \n",
    "                     epsilon=1e-08, n_iter_no_change=10, max_fun=15000,\n",
    "                   )\n",
    "regr = regr.fit(X_train, y_train)"
   ]
  },
  {
   "cell_type": "code",
   "execution_count": 22,
   "metadata": {},
   "outputs": [
    {
     "name": "stdout",
     "output_type": "stream",
     "text": [
      "R2 overall =  0.7717856073374012\n",
      "R2 pitch/roll =  0.7656861418283631\n",
      "R2 reward =  0.8003933411264366\n",
      "R2 done =  0.5649233079116481\n",
      "R2 pitch/roll no action =  0.22057796292486814\n",
      "R2 reward no action=  0.5002203247599918\n",
      "R2 done no action=  0.5100083236134324\n"
     ]
    }
   ],
   "source": [
    "print(\"R2 overall = \", regr.score(X_test, y_test))\n",
    "from sklearn.metrics import r2_score\n",
    "X_test_noact = np.copy(X_test)\n",
    "X_test_noact[:,-2:] = np.mean(X_test_noact[:,-2:], axis=0)\n",
    "\n",
    "y_test_hat = regr.predict(X_test)\n",
    "print(\"R2 pitch/roll = \", r2_score(y_test[:,3:5], y_test_hat[:,3:5]))\n",
    "print(\"R2 reward = \", r2_score(y_test[:,5], y_test_hat[:,5]))\n",
    "print(\"R2 done = \", r2_score(y_test[:,6], y_test_hat[:,6]), '<- bad so we are using a sigmoid output in TF' )\n",
    "y_test_noact_hat = regr.predict(X_test_noact)\n",
    "print(\"R2 pitch/roll no action = \",r2_score(y_test[:,3:5], y_test_noact_hat[:,3:5]))\n",
    "print(\"R2 reward no action= \", r2_score(y_test[:,5], y_test_noact_hat[:,5]))\n",
    "print(\"R2 done no action= \", r2_score(y_test[:,6], y_test_noact_hat[:,6]))"
   ]
  },
  {
   "cell_type": "code",
   "execution_count": 43,
   "metadata": {
    "scrolled": true
   },
   "outputs": [
    {
     "data": {
      "image/png": "[encoded data removed]",
      "text/plain": [
       "<Figure size 432x288 with 1 Axes>"
      ]
     },
     "metadata": {
      "needs_background": "light"
     },
     "output_type": "display_data"
    }
   ],
   "source": [
    "delta_pred = y_test_hat[:,:5] * delta_std\n",
    "\n",
    "delta_true = y_test[:,:5] * delta_std\n",
    "\n",
    "obs_middle = np.array([15.0, 25.0, 0.0, 0.0, 0.0])\n",
    "obs_radius = np.array([15.0, 25.0, np.pi, np.pi/2, np.pi])\n",
    "\n",
    "delta_pred = delta_pred * obs_radius\n",
    "delta_true = delta_true * obs_radius\n",
    "\n",
    "plt.hist((delta_pred-delta_true)[:,2:],20)\n",
    "plt.show()"
   ]
  },
  {
   "cell_type": "markdown",
   "metadata": {},
   "source": [
    "32^2\n",
    "0.7568775375158716\n",
    "0.6618566505493315\n",
    "0.3792859472529585\n",
    "\n",
    "32^4\n",
    "0.6790337384394276\n",
    "0.3706717010875441\n",
    "\n",
    "64^2\n",
    "0.7890316324251868\n",
    "0.695654767820375\n",
    "0.4064780202314599\n",
    "\n",
    "64^3\n",
    "0.8050472956040292\n",
    "0.7231935605209159\n",
    "0.379271480435488\n",
    "\n",
    "64x128x64\n",
    "0.8017002731673505\n",
    "0.7189430821483473\n",
    "0.37180074395282325\n",
    "\n",
    "128^2\n",
    "0.8126686933062833\n",
    "0.7375201987656768\n",
    "0.40055354126739673\n",
    "\n",
    "128^4\n",
    "0.8104557255909789\n",
    "0.7387669853417194\n",
    "0.37929269607135496\n",
    "\n",
    "256\n",
    "0.7863730904575563\n",
    "0.7091571089083142\n",
    "0.3982262215382181\n",
    "\n",
    "8x256\n",
    "0.7668729199385614\n",
    "0.6684689377923899\n",
    "0.3910761956441275\n",
    "\n",
    "256x128\n",
    "0.8116519021776541\n",
    "0.7413045875383611\n",
    "0.36898949926441105\n",
    "\n",
    "128x256\n",
    "0.8166583345614731\n",
    "0.7493261067038156\n",
    "0.3717739442587401\n",
    "\n",
    "256^2\n",
    "0.8240627820769033\n",
    "0.757434327159496\n",
    "0.38575411601107523\n",
    "\n",
    "256^3\n",
    "0.8145780211741683\n",
    "0.7332958111739403\n",
    "0.3725881872520055\n",
    "\n",
    "512\n",
    "0.7917903198840671\n",
    "0.7182124929605083\n",
    "0.39966753727381105\n",
    "\n",
    "512^2\n",
    "0.8153211637061869\n",
    "0.7443025983927569\n",
    "0.38189329807387334\n"
   ]
  },
  {
   "cell_type": "code",
   "execution_count": 24,
   "metadata": {
    "scrolled": true
   },
   "outputs": [
    {
     "name": "stdout",
     "output_type": "stream",
     "text": [
      "Iteration 1, loss = 0.21802560\n",
      "Validation score: 0.945767\n",
      "Iteration 2, loss = 0.11815929\n",
      "Validation score: 0.968254\n",
      "Iteration 3, loss = 0.09685636\n",
      "Validation score: 0.961640\n",
      "Iteration 4, loss = 0.07655394\n",
      "Validation score: 0.977513\n",
      "Iteration 5, loss = 0.07375277\n",
      "Validation score: 0.972222\n",
      "Iteration 6, loss = 0.06637748\n",
      "Validation score: 0.974868\n",
      "Iteration 7, loss = 0.06129107\n",
      "Validation score: 0.976190\n",
      "Iteration 8, loss = 0.05710522\n",
      "Validation score: 0.976190\n",
      "Iteration 9, loss = 0.05067833\n",
      "Validation score: 0.973545\n",
      "Iteration 10, loss = 0.05106279\n",
      "Validation score: 0.972222\n",
      "Iteration 11, loss = 0.04785663\n",
      "Validation score: 0.978836\n",
      "Iteration 12, loss = 0.04145392\n",
      "Validation score: 0.981481\n",
      "Iteration 13, loss = 0.03725076\n",
      "Validation score: 0.980159\n",
      "Iteration 14, loss = 0.04774019\n",
      "Validation score: 0.980159\n",
      "Iteration 15, loss = 0.03403206\n",
      "Validation score: 0.974868\n",
      "Iteration 16, loss = 0.02999306\n",
      "Validation score: 0.978836\n",
      "Iteration 17, loss = 0.03045393\n",
      "Validation score: 0.981481\n",
      "Iteration 18, loss = 0.03527539\n",
      "Validation score: 0.984127\n",
      "Iteration 19, loss = 0.02840710\n",
      "Validation score: 0.978836\n",
      "Iteration 20, loss = 0.02303885\n",
      "Validation score: 0.978836\n",
      "Iteration 21, loss = 0.02328230\n",
      "Validation score: 0.978836\n",
      "Iteration 22, loss = 0.02429127\n",
      "Validation score: 0.976190\n",
      "Iteration 23, loss = 0.02006417\n",
      "Validation score: 0.977513\n",
      "Iteration 24, loss = 0.01783950\n",
      "Validation score: 0.980159\n",
      "Iteration 25, loss = 0.02289425\n",
      "Validation score: 0.985450\n",
      "Iteration 26, loss = 0.02380448\n",
      "Validation score: 0.978836\n",
      "Iteration 27, loss = 0.02803101\n",
      "Validation score: 0.981481\n",
      "Iteration 28, loss = 0.02378821\n",
      "Validation score: 0.978836\n",
      "Iteration 29, loss = 0.02223672\n",
      "Validation score: 0.974868\n",
      "Iteration 30, loss = 0.01456629\n",
      "Validation score: 0.981481\n",
      "Iteration 31, loss = 0.01786033\n",
      "Validation score: 0.974868\n",
      "Iteration 32, loss = 0.01513320\n",
      "Validation score: 0.977513\n",
      "Iteration 33, loss = 0.01309661\n",
      "Validation score: 0.981481\n",
      "Iteration 34, loss = 0.01264469\n",
      "Validation score: 0.977513\n",
      "Iteration 35, loss = 0.00943083\n",
      "Validation score: 0.981481\n",
      "Iteration 36, loss = 0.00952970\n",
      "Validation score: 0.981481\n",
      "Validation score did not improve more than tol=0.000100 for 10 consecutive epochs. Stopping.\n"
     ]
    }
   ],
   "source": [
    "from sklearn.neural_network import MLPClassifier\n",
    "regr = MLPClassifier(hidden_layer_sizes=(256,256,256,256), \n",
    "                     activation='relu',\n",
    "                     solver='adam', \n",
    "                     alpha=0.0001, \n",
    "                     batch_size='auto', \n",
    "                     learning_rate_init=0.001, \n",
    "                     max_iter=1000, shuffle=True, \n",
    "                     tol=0.0001, verbose=True, \n",
    "                     warm_start=False, momentum=0.9, \n",
    "                     nesterovs_momentum=True, early_stopping=True, \n",
    "                     validation_fraction=0.1, beta_1=0.9, beta_2=0.999, \n",
    "                     epsilon=1e-08, n_iter_no_change=10, max_fun=15000,\n",
    "                   )\n",
    "regr = regr.fit(X_train, y_train[:,-1])"
   ]
  },
  {
   "cell_type": "code",
   "execution_count": null,
   "metadata": {},
   "outputs": [],
   "source": []
  }
 ],
 "metadata": {
  "kernelspec": {
   "display_name": "Python 3.6.9 64-bit",
   "language": "python",
   "name": "python36964bit4bbd87d8cfc74c099cc1e2a856f73c9a"
  },
  "language_info": {
   "codemirror_mode": {
    "name": "ipython",
    "version": 3
   },
   "file_extension": ".py",
   "mimetype": "text/x-python",
   "name": "python",
   "nbconvert_exporter": "python",
   "pygments_lexer": "ipython3",
   "version": "3.6.9"
  }
 },
 "nbformat": 4,
 "nbformat_minor": 4
}
