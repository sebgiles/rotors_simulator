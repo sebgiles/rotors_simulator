{
 "cells": [
  {
   "cell_type": "code",
   "execution_count": 1,
   "metadata": {},
   "outputs": [],
   "source": [
    "import sklearn\n",
    "import numpy as np"
   ]
  },
  {
   "cell_type": "code",
   "execution_count": 72,
   "metadata": {},
   "outputs": [],
   "source": [
    "filename = 'demonstrations/seb_run000'\n",
    "dati = np.load(filename+'.npz')"
   ]
  },
  {
   "cell_type": "code",
   "execution_count": null,
   "metadata": {},
   "outputs": [],
   "source": []
  },
  {
   "cell_type": "code",
   "execution_count": 41,
   "metadata": {},
   "outputs": [
    {
     "name": "stdout",
     "output_type": "stream",
     "text": [
      "(10650, 5)\n",
      "(10650, 5)\n"
     ]
    }
   ],
   "source": [
    "obs_middle = np.array([15.0, 25.0, 0.0, 0.0, 0.0])\n",
    "obs_radius = np.array([15.0, 25.0, np.pi, np.pi/2, np.pi])\n",
    "observation = dati['obs']\n",
    "print(observation.shape)\n",
    "obs = (observation - obs_middle) / obs_radius\n",
    "print(obs.shape)\n",
    "out = {\n",
    "    'actions': dati['actions'],\n",
    "    'rewards': dati['rewards'],\n",
    "    'episode_returns': dati['episode_returns'],\n",
    "    'episode_starts': dati['episode_starts'],\n",
    "    'obs': obs\n",
    "}\n",
    "np.savez(filename+'.nrm.npz', **out)"
   ]
  },
  {
   "cell_type": "code",
   "execution_count": 42,
   "metadata": {},
   "outputs": [
    {
     "name": "stdout",
     "output_type": "stream",
     "text": [
      "[1.07950816 0.32774781 0.56151983 0.45920199 0.5105057 ]\n",
      "[ 0.42666972 -0.16380214 -0.00956625  0.05407778  0.0180156 ]\n"
     ]
    }
   ],
   "source": [
    "#print(np.max(obs, axis=0))\n",
    "#print(np.min(obs, axis=0))\n",
    "print(np.std(obs, axis=0))\n",
    "print(np.mean(obs, axis=0))\n",
    "#print(np.median(obs, axis=0))\n",
    "#print(0.5*(np.max(obs, axis=0)+np.min(obs, axis=0)))"
   ]
  },
  {
   "cell_type": "code",
   "execution_count": 82,
   "metadata": {},
   "outputs": [
    {
     "name": "stdout",
     "output_type": "stream",
     "text": [
      "10649\n"
     ]
    }
   ],
   "source": [
    "filename = 'demonstrations/seb_run000.nrm'\n",
    "dati = np.load(filename+'.npz')\n",
    "obs = dati['obs']\n",
    "acs = dati['actions']\n",
    "rew = dati['rewards']\n",
    "n = obs.shape[0] - 1\n",
    "print(n)"
   ]
  },
  {
   "cell_type": "code",
   "execution_count": 83,
   "metadata": {},
   "outputs": [
    {
     "data": {
      "image/png": "[encoded data removed]",
      "text/plain": [
       "<Figure size 432x288 with 1 Axes>"
      ]
     },
     "metadata": {
      "needs_background": "light"
     },
     "output_type": "display_data"
    }
   ],
   "source": [
    "import matplotlib.pyplot as plt\n",
    "plt.hist(rew)\n",
    "plt.show()"
   ]
  },
  {
   "cell_type": "code",
   "execution_count": 84,
   "metadata": {},
   "outputs": [],
   "source": [
    "X = np.hstack([obs[:-1], acs[:-1]])"
   ]
  },
  {
   "cell_type": "code",
   "execution_count": 85,
   "metadata": {},
   "outputs": [
    {
     "name": "stdout",
     "output_type": "stream",
     "text": [
      "[-1.69375319e-04 -4.27221584e-05  9.03610462e-05  5.37380915e-05\n",
      "  5.76759666e-05]\n",
      "[0.37117282 0.12162466 0.42862899 0.27864469 0.3842016 ]\n"
     ]
    }
   ],
   "source": [
    "print(np.mean(obs[1:] - obs[:-1], axis=0))\n",
    "print(np.std(obs[1:] - obs[:-1], axis=0))"
   ]
  },
  {
   "cell_type": "code",
   "execution_count": 86,
   "metadata": {},
   "outputs": [],
   "source": [
    "y = np.zeros([n,6])\n",
    "y[:,:-1] = (obs[1:] - obs[:-1]) / np.array([0.37117282, 0.12162466, 0.42862899, 0.27864469, 0.3842016 ])\n",
    "y[:,-1]  = (rew[:-1] - 12.06) / 20.66"
   ]
  },
  {
   "cell_type": "code",
   "execution_count": 87,
   "metadata": {},
   "outputs": [],
   "source": [
    "#y = np.zeros([n,1])\n",
    "#y[:,-1] = rew[:-1]"
   ]
  },
  {
   "cell_type": "code",
   "execution_count": 88,
   "metadata": {},
   "outputs": [],
   "source": [
    "X = X[~dati['episode_starts'][1:]]\n",
    "y = y[~dati['episode_starts'][1:]]"
   ]
  },
  {
   "cell_type": "code",
   "execution_count": 89,
   "metadata": {},
   "outputs": [
    {
     "name": "stdout",
     "output_type": "stream",
     "text": [
      "[-0.13903473 -0.02105472 -0.03283212  0.19366198  0.00438391  0.03324914]\n",
      "[0.73502125 0.74973475 0.92204864 0.50986149 0.93298548 1.01779052]\n"
     ]
    }
   ],
   "source": [
    "#print(np.mean(X, axis=0))\n",
    "print(np.mean(y, axis=0))\n",
    "#print(np.std(X, axis=0))\n",
    "print(np.std(y, axis=0))"
   ]
  },
  {
   "cell_type": "code",
   "execution_count": 90,
   "metadata": {},
   "outputs": [],
   "source": [
    "#from sklearn.preprocessing import StandardScaler\n",
    "#X = StandardScaler().fit_transform(X)\n",
    "#y = StandardScaler().fit_transform(y)"
   ]
  },
  {
   "cell_type": "code",
   "execution_count": 91,
   "metadata": {},
   "outputs": [],
   "source": [
    "from sklearn.neural_network import MLPRegressor\n",
    "from sklearn.model_selection import train_test_split"
   ]
  },
  {
   "cell_type": "code",
   "execution_count": 92,
   "metadata": {},
   "outputs": [],
   "source": [
    "X_train, X_test, y_train, y_test = train_test_split(X, y, random_state=1)"
   ]
  },
  {
   "cell_type": "code",
   "execution_count": 93,
   "metadata": {},
   "outputs": [],
   "source": [
    "regr = MLPRegressor(hidden_layer_sizes=(256,256), \n",
    "                     activation='relu',\n",
    "                     solver='adam', \n",
    "                     alpha=0.0001, \n",
    "                     batch_size='auto', \n",
    "                     learning_rate='invscaling', \n",
    "                     learning_rate_init=0.001, \n",
    "                     power_t=0.5, max_iter=1000, shuffle=True, \n",
    "                     tol=0.0001, verbose=True, \n",
    "                     warm_start=False, momentum=0.9, \n",
    "                     nesterovs_momentum=True, early_stopping=True, \n",
    "                     validation_fraction=0.1, beta_1=0.9, beta_2=0.999, \n",
    "                     epsilon=1e-08, n_iter_no_change=10, max_fun=15000,\n",
    "                   )"
   ]
  },
  {
   "cell_type": "code",
   "execution_count": 94,
   "metadata": {
    "scrolled": true
   },
   "outputs": [
    {
     "name": "stdout",
     "output_type": "stream",
     "text": [
      "Iteration 1, loss = 0.23158100\n",
      "Validation score: 0.486965\n",
      "Iteration 2, loss = 0.16204574\n",
      "Validation score: 0.561332\n",
      "Iteration 3, loss = 0.14782572\n",
      "Validation score: 0.592450\n",
      "Iteration 4, loss = 0.13901063\n",
      "Validation score: 0.619755\n",
      "Iteration 5, loss = 0.13263437\n",
      "Validation score: 0.636770\n",
      "Iteration 6, loss = 0.12836295\n",
      "Validation score: 0.650703\n",
      "Iteration 7, loss = 0.12184384\n",
      "Validation score: 0.667276\n",
      "Iteration 8, loss = 0.11711560\n",
      "Validation score: 0.681387\n",
      "Iteration 9, loss = 0.11302554\n",
      "Validation score: 0.691864\n",
      "Iteration 10, loss = 0.10905019\n",
      "Validation score: 0.701047\n",
      "Iteration 11, loss = 0.10764571\n",
      "Validation score: 0.708454\n",
      "Iteration 12, loss = 0.10596009\n",
      "Validation score: 0.717548\n",
      "Iteration 13, loss = 0.09987936\n",
      "Validation score: 0.717167\n",
      "Iteration 14, loss = 0.09855578\n",
      "Validation score: 0.727405\n",
      "Iteration 15, loss = 0.09575126\n",
      "Validation score: 0.738150\n",
      "Iteration 16, loss = 0.09516825\n",
      "Validation score: 0.741593\n",
      "Iteration 17, loss = 0.09022124\n",
      "Validation score: 0.746540\n",
      "Iteration 18, loss = 0.08857703\n",
      "Validation score: 0.756950\n",
      "Iteration 19, loss = 0.08780541\n",
      "Validation score: 0.758149\n",
      "Iteration 20, loss = 0.08571914\n",
      "Validation score: 0.732769\n",
      "Iteration 21, loss = 0.10806921\n",
      "Validation score: 0.754227\n",
      "Iteration 22, loss = 0.08468301\n",
      "Validation score: 0.766533\n",
      "Iteration 23, loss = 0.08253382\n",
      "Validation score: 0.774342\n",
      "Iteration 24, loss = 0.08050187\n",
      "Validation score: 0.777212\n",
      "Iteration 25, loss = 0.07931255\n",
      "Validation score: 0.776392\n",
      "Iteration 26, loss = 0.08329478\n",
      "Validation score: 0.775617\n",
      "Iteration 27, loss = 0.08382891\n",
      "Validation score: 0.777891\n",
      "Iteration 28, loss = 0.07602564\n",
      "Validation score: 0.782352\n",
      "Iteration 29, loss = 0.07565233\n",
      "Validation score: 0.789857\n",
      "Iteration 30, loss = 0.07345587\n",
      "Validation score: 0.791376\n",
      "Iteration 31, loss = 0.07234573\n",
      "Validation score: 0.788608\n",
      "Iteration 32, loss = 0.07393035\n",
      "Validation score: 0.783264\n",
      "Iteration 33, loss = 0.07634969\n",
      "Validation score: 0.797530\n",
      "Iteration 34, loss = 0.07108822\n",
      "Validation score: 0.786498\n",
      "Iteration 35, loss = 0.08613441\n",
      "Validation score: 0.793635\n",
      "Iteration 36, loss = 0.07389618\n",
      "Validation score: 0.803587\n",
      "Iteration 37, loss = 0.07080799\n",
      "Validation score: 0.808356\n",
      "Iteration 38, loss = 0.07010287\n",
      "Validation score: 0.798805\n",
      "Iteration 39, loss = 0.07042691\n",
      "Validation score: 0.781606\n",
      "Iteration 40, loss = 0.07887799\n",
      "Validation score: 0.801528\n",
      "Iteration 41, loss = 0.06758979\n",
      "Validation score: 0.812412\n",
      "Iteration 42, loss = 0.06583209\n",
      "Validation score: 0.816997\n",
      "Iteration 43, loss = 0.06575007\n",
      "Validation score: 0.813423\n",
      "Iteration 44, loss = 0.06402609\n",
      "Validation score: 0.812341\n",
      "Iteration 45, loss = 0.06439770\n",
      "Validation score: 0.809748\n",
      "Iteration 46, loss = 0.06332497\n",
      "Validation score: 0.770979\n",
      "Iteration 47, loss = 0.08679582\n",
      "Validation score: 0.803902\n",
      "Iteration 48, loss = 0.06483728\n",
      "Validation score: 0.812134\n",
      "Iteration 49, loss = 0.06241857\n",
      "Validation score: 0.814764\n",
      "Iteration 50, loss = 0.06325731\n",
      "Validation score: 0.819270\n",
      "Iteration 51, loss = 0.06154583\n",
      "Validation score: 0.819642\n",
      "Iteration 52, loss = 0.06118229\n",
      "Validation score: 0.817359\n",
      "Iteration 53, loss = 0.06001526\n",
      "Validation score: 0.826546\n",
      "Iteration 54, loss = 0.05880093\n",
      "Validation score: 0.820877\n",
      "Iteration 55, loss = 0.05909117\n",
      "Validation score: 0.812795\n",
      "Iteration 56, loss = 0.06543826\n",
      "Validation score: 0.814274\n",
      "Iteration 57, loss = 0.06032617\n",
      "Validation score: 0.813435\n",
      "Iteration 58, loss = 0.06042020\n",
      "Validation score: 0.820392\n",
      "Iteration 59, loss = 0.05810670\n",
      "Validation score: 0.818825\n",
      "Iteration 60, loss = 0.05739166\n",
      "Validation score: 0.825117\n",
      "Iteration 61, loss = 0.05604977\n",
      "Validation score: 0.821974\n",
      "Iteration 62, loss = 0.05790915\n",
      "Validation score: 0.828193\n",
      "Iteration 63, loss = 0.05501952\n",
      "Validation score: 0.823434\n",
      "Iteration 64, loss = 0.05582683\n",
      "Validation score: 0.813389\n",
      "Iteration 65, loss = 0.07960471\n",
      "Validation score: 0.815889\n",
      "Iteration 66, loss = 0.06267734\n",
      "Validation score: 0.775040\n",
      "Iteration 67, loss = 0.09546685\n",
      "Validation score: 0.753213\n",
      "Iteration 68, loss = 0.07637109\n",
      "Validation score: 0.780831\n",
      "Iteration 69, loss = 0.06963032\n",
      "Validation score: 0.791805\n",
      "Iteration 70, loss = 0.07084952\n",
      "Validation score: 0.801357\n",
      "Iteration 71, loss = 0.06326659\n",
      "Validation score: 0.814105\n",
      "Iteration 72, loss = 0.06008813\n",
      "Validation score: 0.818554\n",
      "Iteration 73, loss = 0.05902918\n",
      "Validation score: 0.813354\n",
      "Validation score did not improve more than tol=0.000100 for 10 consecutive epochs. Stopping.\n"
     ]
    }
   ],
   "source": [
    "regr = regr.fit(X_train, y_train)"
   ]
  },
  {
   "cell_type": "code",
   "execution_count": 95,
   "metadata": {},
   "outputs": [
    {
     "name": "stdout",
     "output_type": "stream",
     "text": [
      "0.8194334126450896\n",
      "0.7345355050106964\n",
      "0.3817199305630557\n"
     ]
    }
   ],
   "source": [
    "print(regr.score(X_test, y_test))\n",
    "from sklearn.metrics import r2_score\n",
    "X_test_noact = np.copy(X_test)\n",
    "n_test = X_test.shape[0]\n",
    "X_test_noact[:,-2:] = np.zeros([n_test, 2])\n",
    "\n",
    "y_test_hat = regr.predict(X_test)\n",
    "print(r2_score(y_test[:,3:5], y_test_hat[:,3:5]))\n",
    "#print(r2_score(y_test[:,-1], y_test_hat[:,-1]))\n",
    "y_test_noact_hat = regr.predict(X_test_noact)\n",
    "print(r2_score(y_test[:,3:5], y_test_noact_hat[:,3:5]))"
   ]
  },
  {
   "cell_type": "markdown",
   "metadata": {},
   "source": [
    "32^2\n",
    "0.7568775375158716\n",
    "0.6618566505493315\n",
    "0.3792859472529585\n",
    "\n",
    "32^4\n",
    "0.6790337384394276\n",
    "0.3706717010875441\n",
    "\n",
    "64^2\n",
    "0.7890316324251868\n",
    "0.695654767820375\n",
    "0.4064780202314599\n",
    "\n",
    "64^3\n",
    "0.8050472956040292\n",
    "0.7231935605209159\n",
    "0.379271480435488\n",
    "\n",
    "64x128x64\n",
    "0.8017002731673505\n",
    "0.7189430821483473\n",
    "0.37180074395282325\n",
    "\n",
    "128^2\n",
    "0.8126686933062833\n",
    "0.7375201987656768\n",
    "0.40055354126739673\n",
    "\n",
    "128^4\n",
    "0.8104557255909789\n",
    "0.7387669853417194\n",
    "0.37929269607135496\n",
    "\n",
    "256\n",
    "0.7863730904575563\n",
    "0.7091571089083142\n",
    "0.3982262215382181\n",
    "\n",
    "8x256\n",
    "0.7668729199385614\n",
    "0.6684689377923899\n",
    "0.3910761956441275\n",
    "\n",
    "256x128\n",
    "0.8116519021776541\n",
    "0.7413045875383611\n",
    "0.36898949926441105\n",
    "\n",
    "128x256\n",
    "0.8166583345614731\n",
    "0.7493261067038156\n",
    "0.3717739442587401\n",
    "\n",
    "256^2\n",
    "0.8240627820769033\n",
    "0.757434327159496\n",
    "0.38575411601107523\n",
    "\n",
    "256^3\n",
    "0.8145780211741683\n",
    "0.7332958111739403\n",
    "0.3725881872520055\n",
    "\n",
    "512\n",
    "0.7917903198840671\n",
    "0.7182124929605083\n",
    "0.39966753727381105\n",
    "\n",
    "512^2\n",
    "0.8153211637061869\n",
    "0.7443025983927569\n",
    "0.38189329807387334\n"
   ]
  },
  {
   "cell_type": "code",
   "execution_count": 15,
   "metadata": {},
   "outputs": [
    {
     "ename": "NameError",
     "evalue": "name 'y_test_hat' is not defined",
     "output_type": "error",
     "traceback": [
      "\u001b[0;31m--------------------------------------------------------------\u001b[0m",
      "\u001b[0;31mNameError\u001b[0m                    Traceback (most recent call last)",
      "\u001b[0;32m<ipython-input-15-1eac1d953dff>\u001b[0m in \u001b[0;36m<module>\u001b[0;34m\u001b[0m\n\u001b[0;32m----> 1\u001b[0;31m \u001b[0mplt\u001b[0m\u001b[0;34m.\u001b[0m\u001b[0mhist\u001b[0m\u001b[0;34m(\u001b[0m\u001b[0;34m[\u001b[0m\u001b[0my_test_hat\u001b[0m\u001b[0;34m[\u001b[0m\u001b[0;34m:\u001b[0m\u001b[0;34m,\u001b[0m\u001b[0;34m-\u001b[0m\u001b[0;36m1\u001b[0m\u001b[0;34m]\u001b[0m\u001b[0;34m,\u001b[0m \u001b[0my_test\u001b[0m\u001b[0;34m[\u001b[0m\u001b[0;34m:\u001b[0m\u001b[0;34m,\u001b[0m\u001b[0;34m-\u001b[0m\u001b[0;36m1\u001b[0m\u001b[0;34m]\u001b[0m\u001b[0;34m]\u001b[0m\u001b[0;34m)\u001b[0m\u001b[0;34m\u001b[0m\u001b[0;34m\u001b[0m\u001b[0m\n\u001b[0m\u001b[1;32m      2\u001b[0m \u001b[0mplt\u001b[0m\u001b[0;34m.\u001b[0m\u001b[0mshow\u001b[0m\u001b[0;34m(\u001b[0m\u001b[0;34m)\u001b[0m\u001b[0;34m\u001b[0m\u001b[0;34m\u001b[0m\u001b[0m\n",
      "\u001b[0;31mNameError\u001b[0m: name 'y_test_hat' is not defined"
     ]
    }
   ],
   "source": [
    "plt.hist([y_test_hat[:,-1], y_test[:,-1]])\n",
    "plt.show()"
   ]
  },
  {
   "cell_type": "code",
   "execution_count": 16,
   "metadata": {},
   "outputs": [
    {
     "data": {
      "text/plain": [
       "12.063776888961495"
      ]
     },
     "execution_count": 16,
     "metadata": {},
     "output_type": "execute_result"
    }
   ],
   "source": [
    "np.mean(rew)"
   ]
  },
  {
   "cell_type": "code",
   "execution_count": 17,
   "metadata": {},
   "outputs": [
    {
     "data": {
      "text/plain": [
       "-6.558205083931056e-17"
      ]
     },
     "execution_count": 17,
     "metadata": {},
     "output_type": "execute_result"
    }
   ],
   "source": [
    "np.mean(y[:,-1])"
   ]
  },
  {
   "cell_type": "code",
   "execution_count": 18,
   "metadata": {},
   "outputs": [
    {
     "data": {
      "text/plain": [
       "20.65619606251232"
      ]
     },
     "execution_count": 18,
     "metadata": {},
     "output_type": "execute_result"
    }
   ],
   "source": [
    "np.std(rew)"
   ]
  },
  {
   "cell_type": "code",
   "execution_count": 20,
   "metadata": {},
   "outputs": [
    {
     "data": {
      "text/plain": [
       "0.9998158791148267"
      ]
     },
     "execution_count": 20,
     "metadata": {},
     "output_type": "execute_result"
    }
   ],
   "source": [
    "np.std((rew-12.06)/20.66)"
   ]
  },
  {
   "cell_type": "code",
   "execution_count": 22,
   "metadata": {},
   "outputs": [
    {
     "data": {
      "text/plain": [
       "array([ 1.05088295e-15, -1.08697401e-16, -5.91128201e-17, -7.13017489e-16,\n",
       "       -3.83801543e-17, -7.56683763e-16])"
      ]
     },
     "execution_count": 22,
     "metadata": {},
     "output_type": "execute_result"
    }
   ],
   "source": [
    "np.mean(y, axis=0)"
   ]
  },
  {
   "cell_type": "code",
   "execution_count": null,
   "metadata": {},
   "outputs": [],
   "source": []
  }
 ],
 "metadata": {
  "kernelspec": {
   "display_name": "Python 3.6.9 64-bit",
   "language": "python",
   "name": "python36964bit4bbd87d8cfc74c099cc1e2a856f73c9a"
  },
  "language_info": {
   "codemirror_mode": {
    "name": "ipython",
    "version": 3
   },
   "file_extension": ".py",
   "mimetype": "text/x-python",
   "name": "python",
   "nbconvert_exporter": "python",
   "pygments_lexer": "ipython3",
   "version": "3.6.9"
  }
 },
 "nbformat": 4,
 "nbformat_minor": 4
}
