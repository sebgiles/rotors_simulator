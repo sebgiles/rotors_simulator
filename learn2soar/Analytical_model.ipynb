{
 "cells": [
  {
   "cell_type": "code",
   "execution_count": 1,
   "metadata": {},
   "outputs": [],
   "source": [
    "import numpy as np"
   ]
  },
  {
   "cell_type": "code",
   "execution_count": 27,
   "metadata": {},
   "outputs": [
    {
     "name": "stdout",
     "output_type": "stream",
     "text": [
      "(3853, 3)\n"
     ]
    }
   ],
   "source": [
    "filename = 'demonstrations/energy_rudd_run002'\n",
    "traj_data = np.load(filename+'.npz', allow_pickle=True)\n",
    "print(np.shape(traj_data['actions']))"
   ]
  },
  {
   "cell_type": "code",
   "execution_count": 21,
   "metadata": {},
   "outputs": [],
   "source": [
    "reset    = traj_data['episode_starts'][2:-1]\n",
    "start    = traj_data['episode_starts'][1:-2]\n",
    "done     = traj_data['episode_starts'][3:][np.all([~reset,~start], axis=0)]\n",
    "obs      = np.copy(traj_data['obs'][1:-2][np.all([~reset,~start], axis=0)])\n",
    "prev_obs = np.copy(traj_data['obs'][:-3][np.all([~reset,~start], axis=0)])\n",
    "actions  = traj_data['actions'][1:-2][np.all([~reset,~start], axis=0)]\n",
    "next_obs = np.copy(traj_data['obs'][2:-1][np.all([~reset,~start], axis=0)])\n",
    "rewards  = traj_data['rewards'][1:-2][np.all([~reset,~start], axis=0)]\n",
    "#rewards  = np.reshape(rewards, [rewards.shape[0], 1]) # create unused second dimension\n",
    "\n",
    "delta = next_obs - obs\n",
    "#crossings = np.abs(delta[:,2]) > 1 # yaw overflow\n",
    "#delta[crossings,2] = -np.sign(delta[crossings,2])*(np.abs(delta[crossings,2]) - 2)\n",
    "delta[:,2] = (delta[:,2] + 1) % 2 - 1\n",
    "delta[:,4] = (delta[:,4] + 1) % 2 - 1"
   ]
  },
  {
   "cell_type": "code",
   "execution_count": 22,
   "metadata": {},
   "outputs": [
    {
     "data": {
      "text/plain": [
       "array([False,  True,  True, ...,  True,  True,  True])"
      ]
     },
     "execution_count": 22,
     "metadata": {},
     "output_type": "execute_result"
    }
   ],
   "source": [
    "np.all([~reset,~start], axis=0)"
   ]
  },
  {
   "cell_type": "code",
   "execution_count": 23,
   "metadata": {},
   "outputs": [
    {
     "data": {
      "image/png": "[encoded data removed]",
      "text/plain": [
       "<Figure size 432x288 with 1 Axes>"
      ]
     },
     "metadata": {
      "needs_background": "light"
     },
     "output_type": "display_data"
    }
   ],
   "source": [
    "import matplotlib.pyplot as plt\n",
    "plt.hist(delta)\n",
    "plt.show()"
   ]
  },
  {
   "cell_type": "code",
   "execution_count": 24,
   "metadata": {},
   "outputs": [],
   "source": [
    "obs_middle = np.array([15.0, 25.0, 0.0, 0.0, 0.0])\n",
    "obs_radius = np.array([15.0, 25.0, np.pi, np.pi/2, np.pi])\n",
    "\n",
    "prev_observation = prev_obs * obs_radius + obs_middle\n",
    "observation      = obs * obs_radius + obs_middle\n",
    "next_observation = next_obs * obs_radius + obs_middle\n",
    "actions = np.hstack([actions, np.zeros_like(actions[:,:1])])\n"
   ]
  },
  {
   "cell_type": "code",
   "execution_count": 25,
   "metadata": {},
   "outputs": [],
   "source": [
    "from scripts.get_model_dynamics import get_model_dynamics\n",
    "dynamics  = get_model_dynamics(prev_observation, observation, actions)\n",
    "pred_observation  = dynamics.get_pred_obs()\n",
    "pred_rew  = dynamics.get_pred_rew()\n",
    "pred_done = dynamics.get_pred_done()"
   ]
  },
  {
   "cell_type": "code",
   "execution_count": 36,
   "metadata": {},
   "outputs": [
    {
     "data": {
      "image/png": "[encoded data removed]",
      "text/plain": [
       "<Figure size 432x288 with 1 Axes>"
      ]
     },
     "metadata": {
      "needs_background": "light"
     },
     "output_type": "display_data"
    }
   ],
   "source": [
    "delta_pred = (pred_observation - observation)\n",
    "delta_pred = np.hstack([delta_pred[:,:2], (delta_pred[:,2:5] + np.pi) % 2.0*np.pi - np.pi])\n",
    "\n",
    "delta_true = (next_observation - observation)\n",
    "delta_true = np.hstack([delta_true[:,:2], (delta_true[:,2:5] + np.pi) % 2.0*np.pi - np.pi])\n",
    "\n",
    "plt.hist((delta_pred-delta_true)[:,2:])\n",
    "plt.show()"
   ]
  },
  {
   "cell_type": "code",
   "execution_count": 37,
   "metadata": {},
   "outputs": [
    {
     "data": {
      "image/png": "[encoded data removed]",
      "text/plain": [
       "<Figure size 432x288 with 1 Axes>"
      ]
     },
     "metadata": {
      "needs_background": "light"
     },
     "output_type": "display_data"
    }
   ],
   "source": [
    "plt.hist((delta_pred)[:,0],100)\n",
    "plt.show()"
   ]
  },
  {
   "cell_type": "code",
   "execution_count": 38,
   "metadata": {},
   "outputs": [
    {
     "data": {
      "image/png": "[encoded data removed]",
      "text/plain": [
       "<Figure size 432x288 with 1 Axes>"
      ]
     },
     "metadata": {
      "needs_background": "light"
     },
     "output_type": "display_data"
    }
   ],
   "source": [
    "plt.hist((delta_pred-delta_true)[:,1], 100)\n",
    "plt.show()"
   ]
  },
  {
   "cell_type": "code",
   "execution_count": null,
   "metadata": {},
   "outputs": [],
   "source": []
  },
  {
   "cell_type": "code",
   "execution_count": null,
   "metadata": {},
   "outputs": [],
   "source": []
  },
  {
   "cell_type": "code",
   "execution_count": null,
   "metadata": {},
   "outputs": [],
   "source": []
  }
 ],
 "metadata": {
  "kernelspec": {
   "display_name": "Python 3.6.9 64-bit",
   "language": "python",
   "name": "python36964bit4bbd87d8cfc74c099cc1e2a856f73c9a"
  },
  "language_info": {
   "codemirror_mode": {
    "name": "ipython",
    "version": 3
   },
   "file_extension": ".py",
   "mimetype": "text/x-python",
   "name": "python",
   "nbconvert_exporter": "python",
   "pygments_lexer": "ipython3",
   "version": "3.6.9"
  }
 },
 "nbformat": 4,
 "nbformat_minor": 2
}
