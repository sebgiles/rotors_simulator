{
 "cells": [
  {
   "cell_type": "code",
   "execution_count": 203,
   "metadata": {},
   "outputs": [],
   "source": [
    "import numpy as np\n",
    "from scipy.spatial.transform import Rotation"
   ]
  },
  {
   "cell_type": "code",
   "execution_count": 199,
   "metadata": {},
   "outputs": [],
   "source": [
    "dataset = np.load('demonstrations/energy_rudd_run001.npz')"
   ]
  },
  {
   "cell_type": "code",
   "execution_count": 36,
   "metadata": {},
   "outputs": [],
   "source": [
    "def get_wind(z):\n",
    "        wind = np.array([0,0,0], dtype=float)\n",
    "        shear_top = 15.0\n",
    "        wind_grad = -1.0\n",
    "        wind[1] = wind_grad * max(min(z, shear_top), 0.0)\n",
    "        return wind"
   ]
  },
  {
   "cell_type": "code",
   "execution_count": 141,
   "metadata": {},
   "outputs": [],
   "source": [
    "def get_ground_velocity(obs):\n",
    "    z = obs[0]\n",
    "    airspeed = obs[1]\n",
    "    yaw = obs[2]\n",
    "    pitch = obs[3]\n",
    "    roll = obs[4]\n",
    "\n",
    "    I_v_wind = np.zeros((3))\n",
    "    I_v_wind = get_wind(z)\n",
    "\n",
    "    B_v_wind = np.zeros((3))\n",
    "    rot = Rotation.from_euler('ZYX', [yaw, pitch, roll])\n",
    "    \n",
    "    B_v_wind = rot.apply(I_v_wind)\n",
    "\n",
    "    B_v_air = np.zeros((B_v_wind.shape))\n",
    "    B_v_air[0] = airspeed\n",
    "\n",
    "    return B_v_air + B_v_wind"
   ]
  },
  {
   "cell_type": "code",
   "execution_count": 150,
   "metadata": {},
   "outputs": [],
   "source": [
    "def get_ground_angular_velocity(prev_obs, obs):\n",
    "    z = obs[0]\n",
    "    airspeed = obs[1]\n",
    "    yaw   = obs[2]\n",
    "    pitch = obs[3]\n",
    "    roll  = obs[4]\n",
    "    prev_yaw   = prev_obs[2]\n",
    "    prev_pitch = prev_obs[3]\n",
    "    prev_roll  = prev_obs[4]\n",
    "    time_step = 0.3\n",
    "\n",
    "    I_w = np.zeros((3))\n",
    "    B_w = np.zeros((3))\n",
    "    I_w = np.array([(yaw - prev_yaw)/time_step,\n",
    "                    (pitch - prev_pitch)/time_step,\n",
    "                    (roll - prev_roll)/time_step])\n",
    "\n",
    "    rot = Rotation.from_euler('ZYX', [yaw, pitch, roll])\n",
    "\n",
    "    B_w = rot.apply(I_w)\n",
    "    \n",
    "    return B_w"
   ]
  },
  {
   "cell_type": "code",
   "execution_count": 157,
   "metadata": {},
   "outputs": [],
   "source": [
    "def get_net_cg_forces(prev_obs, obs, actions):\n",
    "    B_F_a1 = np.array([[0.0, -0.009, -0.007],\n",
    "                      [-0.003, 0.0, 0.08],\n",
    "                      [0.0, -0.078, 0.0]])\n",
    "    \n",
    "    B_F_a2 = np.array([[-0.056, 0.026, -0.001, -0.001, 0.0, 0.0, -0.005],\n",
    "                       [0.0, -0.296, 0.0, 0.0, 0.0, 0.034, 0.0],\n",
    "                       [-1.892, 0.0, -0.017, -0.017, -0.027, 0.0, 0.038]])\n",
    "    g = 9.81\n",
    "    m = 1.0\n",
    "    alpha = 0.0\n",
    "    beta = 0.0\n",
    "\n",
    "    p = actions[1]\n",
    "    q = actions[0]\n",
    "    r = actions[2]\n",
    "\n",
    "    act = np.array([alpha, beta, p, q, r, 0.0, 1.0])\n",
    "    airspeed = obs[1]\n",
    "\n",
    "    I_F_g = np.array([0.0, 0.0, m*g])\n",
    "\n",
    "    B_w = get_ground_angular_velocity(prev_obs, obs)\n",
    "\n",
    "    B_F_g = rot.apply(I_F_g)\n",
    "    B_F_1 = B_F_a1.dot(B_w) * airspeed\n",
    "\n",
    "    B_F_2 = B_F_a2.dot(act) * (airspeed**2)\n",
    "\n",
    "    return B_F_1 + B_F_2 + B_F_g"
   ]
  },
  {
   "cell_type": "code",
   "execution_count": 182,
   "metadata": {},
   "outputs": [],
   "source": [
    "# Estimate next grouznd speed:\n",
    "def get_get_next_ground_speed(prev_obs, obs, actions):\n",
    "\n",
    "    next_v_g = np.zeros((3))\n",
    "    time_step = 0.3\n",
    "    mass = 2.55\n",
    "\n",
    "    B_v = get_ground_velocity(obs)\n",
    "    B_w = get_ground_angular_velocity(prev_obs, obs)\n",
    "    B_F = get_net_cg_forces(prev_obs, obs, actions)\n",
    "\n",
    "    next_v_g = B_v + time_step * (B_F / mass + np.cross(B_w,B_v))\n",
    "\n",
    "    return next_v_g"
   ]
  },
  {
   "cell_type": "code",
   "execution_count": 181,
   "metadata": {},
   "outputs": [],
   "source": [
    "# Obtain next altitude z:\n",
    "def get_next_altitude(prev_obs, obs):\n",
    "\n",
    "    z = obs[0]\n",
    "    time_step = 0.3\n",
    "    v = get_next_ground_speed(prev_obs, obs, actions)\n",
    "\n",
    "    return z + time_step * v[2]"
   ]
  },
  {
   "cell_type": "code",
   "execution_count": 161,
   "metadata": {},
   "outputs": [],
   "source": [
    "# Get next airspeed:\n",
    "def get_next_airspeed(prev_obs, obs, actions):\n",
    "    next_v_g = get_next_ground_speed(prev_obs, obs, actions)\n",
    "\n",
    "    z = obs[0]\n",
    "\n",
    "    return np.linalg.norm(next_v_g - get_wind(z))"
   ]
  },
  {
   "cell_type": "code",
   "execution_count": 191,
   "metadata": {},
   "outputs": [],
   "source": [
    "# Get torqe:\n",
    "def get_net_torque(prev_obs, obs, actions):\n",
    "    B_M_a1 = np.array([[-0.386, 0.0, 0.039],\n",
    "                      [0.0, -0.066, 0.0],\n",
    "                      [0.008, 0.0, -0.046]])\n",
    "\n",
    "    B_M_a2 = np.array([[0.0, -0.005, 0.017, -0.017, 0.0, 0.001, 0.0],\n",
    "                      [-0.157, 0.0, 0.001, 0.001, -0.017, 0.0, 0.002],\n",
    "                      [0.0, 0.16, -0.001, 0.001, 0.0, -0.018, 0.0]])\n",
    "\n",
    "    alpha = 0.0\n",
    "    beta = 0.0\n",
    "\n",
    "    p = actions[1]\n",
    "    q = actions[0]\n",
    "    r = actions[2]\n",
    "\n",
    "    act = np.array([alpha, beta, p, q, r, 0.0, 1.0])\n",
    "    airspeed = obs[1]\n",
    "\n",
    "    B_w = get_ground_angular_velocity(prev_obs, obs)\n",
    "\n",
    "    B_M = B_M_a1.dot(B_w) * airspeed + B_M_a2.dot(act) + (airspeed**2)\n",
    "\n",
    "    \n",
    "    return B_M"
   ]
  },
  {
   "cell_type": "code",
   "execution_count": 194,
   "metadata": {},
   "outputs": [],
   "source": [
    "# Get next orientation:\n",
    "def get_next_pose(prev_obs, obs, actions):\n",
    "    J = np.array([[0.6688, 0.0, 0.0281],\n",
    "                 [0.0, 0.16235, 0.0],\n",
    "                 [0.0281, 0.0, 0.69364]])\n",
    "\n",
    "    yaw = obs[2]\n",
    "    pitch = obs[3]\n",
    "    roll = obs[4]\n",
    "    time_step = 0.3\n",
    "    \n",
    "    B_M = get_net_torque(prev_obs, obs, actions)\n",
    "    B_w = get_ground_angular_velocity(prev_obs, obs)\n",
    "\n",
    "    next_w = B_w + time_step * (np.linalg.inv(J).dot(B_M + np.cross(B_w, J.dot(B_w))))\n",
    "\n",
    "    next_pose = np.array([yaw, pitch, roll]) + time_step * B_w\n",
    "\n",
    "    return next_pose[0], next_pose[1], next_pose[2]\n"
   ]
  },
  {
   "cell_type": "code",
   "execution_count": 202,
   "metadata": {},
   "outputs": [],
   "source": []
  },
  {
   "cell_type": "code",
   "execution_count": 199,
   "metadata": {},
   "outputs": [],
   "source": [
    "\n"
   ]
  },
  {
   "cell_type": "code",
   "execution_count": 201,
   "metadata": {},
   "outputs": [],
   "source": []
  },
  {
   "cell_type": "code",
   "execution_count": null,
   "metadata": {},
   "outputs": [],
   "source": []
  },
  {
   "cell_type": "code",
   "execution_count": 87,
   "metadata": {},
   "outputs": [],
   "source": []
  },
  {
   "cell_type": "code",
   "execution_count": 176,
   "metadata": {},
   "outputs": [],
   "source": []
  }
 ],
 "metadata": {
  "kernelspec": {
   "display_name": "Python 3.6.9 64-bit",
   "language": "python",
   "name": "python36964bit8d00fd02ca0245f294bd10ddc906cbe6"
  },
  "language_info": {
   "codemirror_mode": {
    "name": "ipython",
    "version": 3
   },
   "file_extension": ".py",
   "mimetype": "text/x-python",
   "name": "python",
   "nbconvert_exporter": "python",
   "pygments_lexer": "ipython3",
   "version": "3.6.9-final"
  }
 },
 "nbformat": 4,
 "nbformat_minor": 2
}